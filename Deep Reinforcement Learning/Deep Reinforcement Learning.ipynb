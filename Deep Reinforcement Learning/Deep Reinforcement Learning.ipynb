{
 "cells": [
  {
   "cell_type": "markdown",
   "metadata": {},
   "source": [
    "So far we have been exploring *Classical Reinforcement Learning* methods. Most of the 90s were spent generalising Q-Learning and other successful classical methods. Most of the struggle stemmed from finding the best and most efficient way to extend the methods to problems with expanded state-spaces - **large discountinous spaces** with greater number of dimensions or even **continuous spaces**."
   ]
  },
  {
   "cell_type": "markdown",
   "metadata": {},
   "source": [
    "Typical solutions to the problem of *large state-spaces* were explored,\n",
    "\n",
    "* discretisation\n",
    "* tiling\n",
    "* kernels\n",
    "\n",
    "with different levels of success."
   ]
  },
  {
   "cell_type": "markdown",
   "metadata": {},
   "source": [
    "It was only when *Neural Networks* and **Deep Learning** came along as one of the most **efficient method of function approximation** that *Reinforcement Learning* had a new bout of renewed interest and intense development by the Research Community - as an overwhelmingly wider spectrum of problems started to become accessible and successfully tackled."
   ]
  },
  {
   "cell_type": "markdown",
   "metadata": {},
   "source": [
    "# Deep Reinforcement Learning"
   ]
  },
  {
   "cell_type": "markdown",
   "metadata": {},
   "source": [
    "In early 2015, [DeepMind](https://storage.googleapis.com/deepmind-media/dqn/DQNNaturePaper.pdf) made the [news](https://www.bbc.co.uk/news/science-environment-31623427) when it solved the majority of Atari Arcade games past human-level performance. The algorithm that was used... **Deep Q-Learning**."
   ]
  },
  {
   "cell_type": "markdown",
   "metadata": {},
   "source": [
    "<br>\n",
    "<figure>\n",
    "  <img src = \"./images/Atari Performance.PNG\" width = 60% >\n",
    "      <figcaption style = \"text-align: center; font-style: italic\">DQN Performance</figcaption>\n",
    "</figure> \n",
    "<br>"
   ]
  },
  {
   "cell_type": "markdown",
   "metadata": {},
   "source": [
    "## Deep Q-Learning - Value-Based Methods"
   ]
  },
  {
   "cell_type": "markdown",
   "metadata": {},
   "source": [
    "Once again, let's introduce a problem that we will try to solve using Deep Q-Learning as a way to explore some of the aspects of the algorithm."
   ]
  },
  {
   "cell_type": "markdown",
   "metadata": {},
   "source": [
    ">[Nova-C](https://www.intuitivemachines.com/lunarlander) is a lunar lander designed by the private company *Intuitive Machines* to deliver small commercial payloads to the surface of the Moon.\n",
    "\n",
    ">[Intuitive Machines](https://www.intuitivemachines.com/)  was one of the 9 contractor companies selected by NASA in November 2018, and Nova-C is one of the first three lander types selected for the new NASA program called Commercial Lunar Payload Services. Launch is planned on a Falcon 9 rocket in July 2021."
   ]
  },
  {
   "cell_type": "markdown",
   "metadata": {},
   "source": [
    "<br>\n",
    "<figure>\n",
    "  <img src = \"./images/LunarLAnder.jpeg\" width = 100% >\n",
    "      <figcaption style = \"text-align: center; font-style: italic\">Image credits: NASA</figcaption>\n",
    "</figure> \n",
    "<br>"
   ]
  },
  {
   "cell_type": "markdown",
   "metadata": {},
   "source": [
    "> [Lunar Lander](https://gym.openai.com/envs/LunarLander-v2/). Landing pad is always at coordinates (0,0). Coordinates are the first two numbers in state vector. Reward for moving from the top of the screen to landing pad and zero speed is about 100..140 points. If lander moves away from landing pad it loses reward back. Episode finishes if the lander crashes or comes to rest, receiving additional -100 or +100 points. Each leg ground contact is +10. Firing main engine is -0.3 points each frame. Solved is 200 points. Landing outside landing pad is possible. Fuel is infinite, so an agent can learn to fly and then land on its first attempt.\n",
    "**Four discrete actions available**: \n",
    "* do nothing,\n",
    "* fire left orientation engine,\n",
    "* fire main engine,\n",
    "* fire right orientation engine."
   ]
  },
  {
   "cell_type": "markdown",
   "metadata": {},
   "source": [
    "We will now import all the needed packages including the [gym](https://gym.openai.com/) package developed by [OpenAI](https://openai.com/) containing the *LunarLander-v2* environment where our problem is defined,"
   ]
  },
  {
   "cell_type": "code",
   "execution_count": 1,
   "metadata": {},
   "outputs": [],
   "source": [
    "import sys\n",
    "import time\n",
    "import gym\n",
    "import random\n",
    "import torch\n",
    "import numpy as np\n",
    "from collections import deque\n",
    "import matplotlib.pyplot as plt\n",
    "%matplotlib inline"
   ]
  },
  {
   "cell_type": "code",
   "execution_count": 2,
   "metadata": {},
   "outputs": [],
   "source": [
    "env = gym.make('LunarLander-v2')"
   ]
  },
  {
   "cell_type": "code",
   "execution_count": 3,
   "metadata": {},
   "outputs": [
    {
     "name": "stdout",
     "output_type": "stream",
     "text": [
      "State shape:  (8,)\n",
      "Number of actions:  4\n"
     ]
    }
   ],
   "source": [
    "print('State shape: ', env.observation_space.shape)\n",
    "print('Number of actions: ', env.action_space.n)"
   ]
  },
  {
   "cell_type": "markdown",
   "metadata": {},
   "source": [
    "as mentioned in the problem definition, we have a **8-dimensional continuous state-space** and **four discrete actions** at all times."
   ]
  },
  {
   "cell_type": "markdown",
   "metadata": {},
   "source": [
    "Next, we initialise our Agent and watch how poorly it performs in the environment before training,"
   ]
  },
  {
   "cell_type": "code",
   "execution_count": 4,
   "metadata": {},
   "outputs": [],
   "source": [
    "from dqn_agent import Agent\n",
    "agent = Agent(state_size=8, action_size=4, seed=0)"
   ]
  },
  {
   "cell_type": "code",
   "execution_count": 15,
   "metadata": {},
   "outputs": [
    {
     "name": "stdout",
     "output_type": "stream",
     "text": [
      "5\n",
      "4\n",
      "3\n",
      "2\n",
      "1\n",
      "Episode 10/10."
     ]
    }
   ],
   "source": [
    "time.sleep(20)\n",
    "for i in range(5):\n",
    "    print(str(5-i))\n",
    "    time.sleep(1)\n",
    "# watch an untrained agent\n",
    "num_episodes = 10\n",
    "for i_episode in range(1, num_episodes+1):\n",
    "    state = env.reset()\n",
    "    for step in range(1000):\n",
    "        action = agent.act(state)\n",
    "        env.render()\n",
    "        state, reward, done, _ = env.step(action)\n",
    "        if done:\n",
    "            break \n",
    "    print(\"\\rEpisode {}/{}.\".format(i_episode, num_episodes), end=\"\")\n",
    "    sys.stdout.flush()    \n",
    "env.close()"
   ]
  },
  {
   "cell_type": "markdown",
   "metadata": {},
   "source": [
    "In the Deep Q-learning algorithm our *action-value function* $q(s,a)$ will be upgraded to a *neural network* $Q(s,a,w)$ where, \n",
    "* $s$ will be its **input** and representing the state-space,\n",
    "* action space $\\mathcal{A}$ size will be the size of the **output** as the network will output together the *value* for each action $a$ at each state $s$ and,\n",
    "* $w$ will define the weights of the neural network.\n",
    "\n",
    "The weights $w$ are the values that will be changing as the neural network *learns* about the environment."
   ]
  },
  {
   "cell_type": "markdown",
   "metadata": {},
   "source": [
    "With this definition of $Q$ we can now analyse how the update rule from Q-learning transforms  for the neural network $Q$ in Deep Q-Learning, "
   ]
  },
  {
   "cell_type": "markdown",
   "metadata": {},
   "source": [
    "* *Q-Learning*\n",
    "$$\n",
    "q(S_t,A_t) \\leftarrow q(S_t,A_t) + \\alpha(R_{t+1} + \\gamma \\cdot \\max_{a} q(S_{t+1},a)  - q(S_t,A_t))\n",
    "$$"
   ]
  },
  {
   "cell_type": "markdown",
   "metadata": {},
   "source": [
    "* *Deep Q-Learning*\n",
    "$$\n",
    "w \\leftarrow w + \\alpha(R_{t+1} + \\gamma \\cdot \\max_{a} Q(S_{t+1},a, w)  - Q(S_t,A_t, w)) \\cdot \\nabla_w Q(S_t, A_t, w)\n",
    "$$"
   ]
  },
  {
   "cell_type": "markdown",
   "metadata": {},
   "source": [
    "This *update rule* will be encoded in the algorithm as a **gradient descent optimisation** rule considering the *Loss Function* $L$ defined in the ``learn`` method of the ``Agent`` class,\n",
    "\n",
    "$$\n",
    "L = \\sum(R_{t+1} + \\gamma \\cdot \\max_{a} Q(S_{t+1},a, w)  - Q(S_t,A_t, w))^2 \n",
    "$$"
   ]
  },
  {
   "cell_type": "markdown",
   "metadata": {},
   "source": [
    "There were two pivotal improvements in the original DQ-Learning model that made the algorithm stable and learn efficiently,\n",
    "* *Q-Targets*\n",
    "* *Experience Replay*"
   ]
  },
  {
   "cell_type": "markdown",
   "metadata": {},
   "source": [
    "### Q-Target"
   ]
  },
  {
   "cell_type": "markdown",
   "metadata": {},
   "source": [
    "If we followed carefully the differentiation of the Loss Function $L$ with respect to $w$ indeed we would not obtain the Deep Q-Learning update rule. In fact the $w$ of the term $\\max_{a} Q(S_{t+1},a, w)$ needs to be fixed in order for gradient descent to yield the correct update rule."
   ]
  },
  {
   "cell_type": "markdown",
   "metadata": {},
   "source": [
    "We would write the Loss Function $L$ as,\n",
    "$$\n",
    "L = \\sum(R_{t+1} + \\gamma \\cdot \\max_{a} Q(S_{t+1},a, w_{fixed})  - Q(S_t,A_t, w))^2 \n",
    "$$"
   ]
  },
  {
   "cell_type": "markdown",
   "metadata": {},
   "source": [
    "and the correct update rule,\n",
    "$$\n",
    "w \\leftarrow w + \\alpha(R_{t+1} + \\gamma \\cdot \\max_{a} Q(S_{t+1},a, w_{fixed})  - Q(S_t,A_t, w)) \\cdot \\nabla_w Q(S_t, A_t, w)\n",
    "$$"
   ]
  },
  {
   "cell_type": "markdown",
   "metadata": {},
   "source": [
    "The best way to incorporate this technical detail into the code is to distinguish between two neural networks $(w, w')$,\n",
    "* the $Q_{local}(\\dots, w)$ and,\n",
    "* the $Q_{target}(\\dots, w')$,"
   ]
  },
  {
   "cell_type": "markdown",
   "metadata": {},
   "source": [
    "where $Q_{local}$ learns at each time-step from the data using the gradient decent update rule,\n",
    "\n",
    "$$\n",
    "w \\leftarrow w + \\alpha(R_{t+1} + \\gamma \\cdot \\max_{a} Q_{target}(S_{t+1},a, w')  - Q_{local}(S_t,A_t, w)) \\cdot \\nabla_w Q_{local}(S_t, A_t, w),\n",
    "$$"
   ]
  },
  {
   "cell_type": "markdown",
   "metadata": {},
   "source": [
    "whilst the $Q_{target}$ learns typically more infrequently or with a soft update,\n",
    "\n",
    "$$\n",
    "w' \\leftarrow w' + \\tau \\cdot (w - w'),\n",
    "$$\n",
    "\n",
    "at each time-step. Where $\\tau$ controls the dessimination of $Q_{local}$ learnt information into $Q_{target}$. A new hyperparameter of the model and a *de facto* second learning rate."
   ]
  },
  {
   "cell_type": "markdown",
   "metadata": {},
   "source": [
    "This construct improves the stability and robustness of the *Deep Q-Learning* model.\n",
    "\n",
    "\n"
   ]
  },
  {
   "cell_type": "markdown",
   "metadata": {},
   "source": [
    "\n",
    "\n",
    "### Experience Replay"
   ]
  },
  {
   "cell_type": "markdown",
   "metadata": {},
   "source": [
    "The most expensive and resource intensive task for an RL agent is experiencing the environment. If the agent was only learning from *freshly* collected data and wastefully throwing away *old* experiences, the information absorption would be highly **inefficient** and prone to **confirmation bias**.\n",
    "\n",
    "*Deep Learning* is a data hungry algorithm. It needs a lot of data to effectively learn. Incorporating an **Experience Buffer** - a short-term memory data base where new experiences get stored and used mutiple times in the agent's learning step brought a step change in the algorithm's performance.   "
   ]
  },
  {
   "cell_type": "markdown",
   "metadata": {},
   "source": [
    "In this particular DQ-Learning algorithm we are using an *Experience Buffer* that holds the last hundred thousand experiences $(S_{t}, A_{t}, R_{t+1}, S_{t+1})$. A batch of 64 randomly selected experiences are **replayed** back to the agent at each learning step.  "
   ]
  },
  {
   "cell_type": "markdown",
   "metadata": {},
   "source": [
    "This is not only a data efficient process but using *random past experiences* also helps the stability of the model. It keeps the agent from overvaluing a particular successful strategy and be consumed in prefecting it in deteriment to a more balanced and robust approach to solve the environment.  "
   ]
  },
  {
   "cell_type": "markdown",
   "metadata": {},
   "source": [
    "---"
   ]
  },
  {
   "cell_type": "markdown",
   "metadata": {},
   "source": [
    "Next we initialise the DQ-Learning algorithm. The code is spred across two python files,\n",
    "* ``dqn_agent.py``\n",
    "* `model.py`"
   ]
  },
  {
   "cell_type": "markdown",
   "metadata": {},
   "source": [
    "In ``dqn_agent.py`` we have two classes defined,\n",
    "* `Agent` and,\n",
    "* `ReplayBuffer`. \n",
    "\n",
    "It is in the `Agent` class that we have the following methods defined,\n",
    "* `step` - where the agent commits to memory new experiences and we define how often the agent learns,\n",
    "* `act` - where we define the $\\epsilon$-greedy policy of the agent,\n",
    "* `learn` - where we define the Loss Function $L$ and its gradient descent as the update rule discussed earlier,\n",
    "* `soft_update` - where we define the update rule between the target network $Q_{target}$ and the local neural network $Q_{local}$.\n",
    "\n",
    "In the `ReplayBuffer` class we have two methods,\n",
    "* `add` - where we process and store the new experience to the memory database,\n",
    "* `sample` - where we define the process of how to access the memory database and package the experice batch for the learning process. "
   ]
  },
  {
   "cell_type": "markdown",
   "metadata": {},
   "source": [
    "#### `model.py`"
   ]
  },
  {
   "cell_type": "markdown",
   "metadata": {},
   "source": [
    "It is in `model.py` that the $Q$ neural network gets defined using *PyTorch* machine learning library. For this particular problem we chose a $Q$-network with two hidden layers both with 64 neurons. We use for both layers *ReLU* activation functions.  "
   ]
  },
  {
   "cell_type": "code",
   "execution_count": 52,
   "metadata": {},
   "outputs": [
    {
     "name": "stdout",
     "output_type": "stream",
     "text": [
      "torch.Size([64, 8])\n",
      "torch.Size([64])\n",
      "torch.Size([64, 64])\n",
      "torch.Size([64])\n",
      "torch.Size([4, 64])\n",
      "torch.Size([4])\n",
      "4996\n"
     ]
    }
   ],
   "source": [
    "params = list(agent.qnetwork_local.parameters())\n",
    "s = 0\n",
    "for tensor in params:\n",
    "    print(tensor.size())\n",
    "    s += tensor.numel()\n",
    "print(s)"
   ]
  },
  {
   "cell_type": "markdown",
   "metadata": {},
   "source": [
    "Overall the $DQN$ has 8 (input layer nodes) * 64 * 64 * 4 (output layer nodes) to a total of 4996 parameters to train and characterise the action-value function $q$ of this problem."
   ]
  },
  {
   "cell_type": "code",
   "execution_count": 31,
   "metadata": {},
   "outputs": [],
   "source": [
    "def dqn(n_episodes=2000, max_t=1000, eps_start=1.0, eps_end=0.01, eps_decay=0.995):\n",
    "    \"\"\"Deep Q-Learning.\n",
    "    \n",
    "    Params\n",
    "    ======\n",
    "        n_episodes (int): maximum number of training episodes\n",
    "        max_t (int): maximum number of timesteps per episode\n",
    "        eps_start (float): starting value of epsilon, for epsilon-greedy action selection\n",
    "        eps_end (float): minimum value of epsilon\n",
    "        eps_decay (float): multiplicative factor (per episode) for decreasing epsilon\n",
    "    \"\"\"\n",
    "    scores = []                        # list containing scores from each episode\n",
    "    scores_window = deque(maxlen=100)  # last 100 scores\n",
    "    eps = eps_start                    # initialize epsilon\n",
    "    for i_episode in range(1, n_episodes+1):\n",
    "        state = env.reset()\n",
    "        score = 0\n",
    "        for t in range(max_t):\n",
    "            action = agent.act(state, eps)\n",
    "            next_state, reward, done, _ = env.step(action)\n",
    "            agent.step(state, action, reward, next_state, done)\n",
    "            state = next_state\n",
    "            score += reward\n",
    "            if done:\n",
    "                break \n",
    "        scores_window.append(score)       # save most recent score\n",
    "        scores.append(score)              # save most recent score\n",
    "        eps = max(eps_end, eps_decay*eps) # decrease epsilon\n",
    "        print('\\rEpisode {}\\tAverage Score: {:.2f}'.format(i_episode, np.mean(scores_window)), end=\"\")\n",
    "        if i_episode % 100 == 0:\n",
    "            print('\\rEpisode {}\\tAverage Score: {:.2f}'.format(i_episode, np.mean(scores_window)))\n",
    "        if np.mean(scores_window)>=200.0:\n",
    "            print('\\nEnvironment solved in {:d} episodes!\\tAverage Score: {:.2f}'.format(i_episode-100, np.mean(scores_window)))\n",
    "            torch.save(agent.qnetwork_local.state_dict(), 'check_dqn.pth')\n",
    "            break\n",
    "    return scores"
   ]
  },
  {
   "cell_type": "markdown",
   "metadata": {},
   "source": [
    "We set the agent to learn for 2000 episodes or until it solves the environment. The environment is *solved* when the agent achieves an **average of 200 points per episode for 100 episodes in a row**."
   ]
  },
  {
   "cell_type": "code",
   "execution_count": 32,
   "metadata": {},
   "outputs": [
    {
     "name": "stdout",
     "output_type": "stream",
     "text": [
      "Episode 100\tAverage Score: -198.95\n",
      "Episode 200\tAverage Score: -102.91\n",
      "Episode 300\tAverage Score: -80.586\n",
      "Episode 400\tAverage Score: 13.020\n",
      "Episode 500\tAverage Score: 89.85\n",
      "Episode 600\tAverage Score: 143.42\n",
      "Episode 682\tAverage Score: 201.73\n",
      "Environment solved in 582 episodes!\tAverage Score: 201.73\n",
      "\n",
      "Elapsed time:  775.6222879886627\n"
     ]
    },
    {
     "data": {
      "image/png": "[encoded data removed]",
      "text/plain": [
       "<Figure size 432x288 with 1 Axes>"
      ]
     },
     "metadata": {
      "needs_background": "light"
     },
     "output_type": "display_data"
    }
   ],
   "source": [
    "t0 = time.time()\n",
    "scores = dqn()\n",
    "print(\"\\nElapsed time: \", time.time() - t0)\n",
    "# plot the scores\n",
    "fig = plt.figure()\n",
    "ax = fig.add_subplot(111)\n",
    "plt.plot(np.arange(len(scores)), scores)\n",
    "plt.ylabel('Score')\n",
    "plt.xlabel('Episode #')\n",
    "plt.show()"
   ]
  },
  {
   "cell_type": "markdown",
   "metadata": {},
   "source": [
    "In the graph above we plot the score per episode as training progresses. We can clearly notice that learning is taking place as agent's performance improves."
   ]
  },
  {
   "cell_type": "markdown",
   "metadata": {},
   "source": [
    "Next we watch a trained agent interacting in the environment as it solves the task..."
   ]
  },
  {
   "cell_type": "code",
   "execution_count": 9,
   "metadata": {},
   "outputs": [
    {
     "name": "stdout",
     "output_type": "stream",
     "text": [
      "5\n",
      "4\n",
      "3\n",
      "2\n",
      "1\n",
      "Episode 3/3."
     ]
    }
   ],
   "source": [
    "time.sleep(20)\n",
    "for i in range(5):\n",
    "    print(str(5-i))\n",
    "    time.sleep(1)\n",
    "# load the weights from file\n",
    "agent.qnetwork_local.load_state_dict(torch.load('checkpoint_dqn_backup.pth'))\n",
    "num_episodes = 3\n",
    "\n",
    "for i_episode in range(1, num_episodes + 1):\n",
    "    state = env.reset()\n",
    "    for j in range(1000):\n",
    "        action = agent.act(state)\n",
    "        env.render()\n",
    "        state, reward, done, _ = env.step(action)\n",
    "        if done:\n",
    "            break \n",
    "    print(\"\\rEpisode {}/{}.\".format(i_episode, num_episodes), end=\"\")\n",
    "    sys.stdout.flush() \n",
    "            \n",
    "env.close()"
   ]
  },
  {
   "cell_type": "markdown",
   "metadata": {},
   "source": [
    "---\n",
    "Throughout the years there has been a few imporvements suggested to the original *Deep Q-Learning* algorithm tackling different aspects and shortfalls of the model. Some of the most succesful to date are,\n",
    "\n",
    "* [Double DQN](https://arxiv.org/pdf/1509.06461.pdf) - tackling the overestimation of the value function inherent to the *Q-Learning* update rule,\n",
    "\n",
    "* [Prioritised Experience Replay](https://arxiv.org/pdf/1511.05952.pdf) - exploring the fact that not all experiences are as valuable in the learning process,\n",
    "\n",
    "* [Dueling DQN](https://arxiv.org/pdf/1511.06581.pdf) - exploring alternative network architectures and focusing on calculating the value function $v$ separately.\n"
   ]
  },
  {
   "cell_type": "markdown",
   "metadata": {},
   "source": [
    "None of the improvements to the $DQN$ approach can deal directly and effectively with two classes of problems:\n",
    "* **Continuous Action Spaces** - just like in *Continuous State Spaces* descritisation tends to be a poor solution,\n",
    "* **Pure Stochastic Policy Solutions** - in some environments with *Aliased States* a deterministic *greedy policy* or even a nearly deterministic *$\\epsilon$-greedy* policy can be a suboptimal solution to the problem. This is a subtle but quite crucial point when developing *Trading Agents* for example."
   ]
  },
  {
   "cell_type": "markdown",
   "metadata": {},
   "source": [
    ">What is the optimal solution to [**Rock-Paper-Scissors**](https://www.youtube.com/embed/AnRYS02tvRA)?"
   ]
  },
  {
   "cell_type": "markdown",
   "metadata": {},
   "source": [
    "Now that we are using the full power of *Neural Networks* and the complex *Deep Learning* infrastrcuture to produce the action-value function $q$, we carelessly leave the final step of yielding a policy $\\pi$ from $q$ to an old classic maximisation process."
   ]
  },
  {
   "cell_type": "markdown",
   "metadata": {},
   "source": [
    "Next we will explore removing $q$ from the process, simplifying the algorithm as we try to **learn** a policy directly from experiences - in a simpler *end-to-end* model. With the simplification comes also greater freedom - we will be able to apply the agorithm to new classes of problems. \n",
    "\n"
   ]
  },
  {
   "cell_type": "markdown",
   "metadata": {},
   "source": [
    "## Policy-Based Methods"
   ]
  },
  {
   "cell_type": "markdown",
   "metadata": {},
   "source": [
    "We can start once again from first principles and remind ourselves of the objective of the agent - *to maximise the expected total future reward $J$ from the environment*,\n",
    "$$\n",
    "J = \\mathbb{E}[G_t]\n",
    "$$"
   ]
  },
  {
   "cell_type": "markdown",
   "metadata": {},
   "source": [
    "We can expand the expression in terms of the trajectories $\\tau$ that the agent will take,\n",
    "\n",
    "$$\n",
    "J = \\sum_{\\tau}P(\\tau)G_t(\\tau)\n",
    "$$\n",
    "\n",
    "where $P(\\tau)$ is the probability of the agent experiencing trajectory $\\tau$ and $G_t(\\tau)$ its total reward."
   ]
  },
  {
   "cell_type": "markdown",
   "metadata": {},
   "source": [
    "For a policy $\\pi$, we can expand $P(\\tau)$ into the environment model terms $p(S_{t+1}, R_{t+1} \\mid S_t, A_t)$ and policy components $\\pi(A_t \\mid S_t)$,\n",
    "\n",
    "$$\n",
    "P(\\tau) = \\prod_{t}p(S_{t+1}, R_{t+1} \\mid S_t, A_t)\\pi(A_t \\mid S_t)\n",
    "$$"
   ]
  },
  {
   "cell_type": "markdown",
   "metadata": {},
   "source": [
    "If we now elevate our policy $\\pi$ to a neural network with parameters $\\theta$, approximating the optimal policy $\\pi_*$ we can try to find the gradient of $J$ in terms of $\\theta$,\n",
    "\n",
    "$$\n",
    "\\nabla_\\theta J = \\nabla_\\theta  \\sum_{\\tau}P(\\tau)G_t(\\tau) = \\sum_{\\tau} P(\\tau) \\frac{\\nabla_\\theta P(\\tau)}{P(\\tau)}G_t(\\tau) = \\sum_{\\tau} P(\\tau) \\nabla_\\theta \\log(P(\\tau))G_t(\\tau) = \\sum_{\\tau} P(\\tau) \\sum_{t}\\nabla_\\theta \\log(\\pi(A_t \\mid S_t, \\theta)) G_t(\\tau), \n",
    "$$\n",
    "\n",
    "we can write the last equation as an expectation explicitly independent of the model $p$ of the environment,\n",
    "\n",
    "$$\n",
    "\\nabla_\\theta J = \\mathbb{E}[\\sum_{t}\\nabla_\\theta \\log(\\pi(A_t \\mid S_t, \\theta))G_t]\n",
    "$$\n"
   ]
  },
  {
   "cell_type": "markdown",
   "metadata": {},
   "source": [
    "The last equation allow us to define a **Policy Gradient** method that just like the Value-based methods we have studied is a **model-free algorithm of policy optimisation**. "
   ]
  },
  {
   "cell_type": "markdown",
   "metadata": {},
   "source": [
    "We sample the environment for a set of trajectories $\\tau$, calculate $G_t(\\tau)$ and use the **gradient ascent** equation to update $\\theta$,\n",
    "\n",
    "$$\n",
    "\\theta \\leftarrow \\theta + \\alpha \\nabla_\\theta J\n",
    "$$"
   ]
  },
  {
   "cell_type": "markdown",
   "metadata": {},
   "source": [
    "Looking in more detail at the equation for the gradient $\\nabla_\\theta J$ we can see that the updated $\\theta$ will contribute to a policy $\\pi$ that attributes a higher probability to the actions $A_{t}$ at state $S_t$ that returned a positive large total reward $G_t$ and reduce the probability of actions $A_t$ that at state $S_t$ returned a large negative total reward $G_t$."
   ]
  },
  {
   "cell_type": "markdown",
   "metadata": {},
   "source": [
    "This is a *Monte Carlo* method similar to the *MC Control* method we have introduced before. And just like the MC Control method, pure *Policy Gradient* methods suffer from **high variance** - making them challenging to converge."
   ]
  },
  {
   "cell_type": "markdown",
   "metadata": {},
   "source": [
    "That was why when we studied the classical theory we quickly moved on to *TD methods*. Temporal Differences methods have reduce variance as they only introduce one element of randomness at each update step. The trade off is that in TD methods we perform estimates of estimates, so TD methods can suffer from **high bias**."
   ]
  },
  {
   "cell_type": "markdown",
   "metadata": {},
   "source": [
    "It seems that if we could incorporate both approches in one single algorithm we could have the best of both worlds. That is indeed the case as we will see next...\n",
    "___"
   ]
  },
  {
   "cell_type": "markdown",
   "metadata": {},
   "source": [
    "## Deep Deterministic Policy Gradient - Actor-Critic Methods"
   ]
  },
  {
   "cell_type": "markdown",
   "metadata": {},
   "source": [
    "An **Actor-Critic** method possesses two sets of neural networks. One **policy** neural network $\\pi$ responsable for the agent's actions and an **action-value** neural network $Q$ acting as the *critic* of the policy.  "
   ]
  },
  {
   "cell_type": "markdown",
   "metadata": {},
   "source": [
    "Next we will introduce the [**Deep Deterministic Policy Gradient**](https://arxiv.org/pdf/1509.02971.pdf) model which is an adaptation to continuous actions of an *actor-critic* method. But first, let's present a problem we will like to solve..."
   ]
  },
  {
   "cell_type": "markdown",
   "metadata": {},
   "source": [
    "<br>\n",
    "<figure>\n",
    "  <img src = \"./images/cassie.gif\" width = 70% >\n",
    "      <figcaption style = \"text-align: center; font-style: italic\">Image: Cassie by Agility Robotics</figcaption>\n",
    "</figure> \n",
    "<br>"
   ]
  },
  {
   "cell_type": "markdown",
   "metadata": {},
   "source": [
    "[Cassie](https://spectrum.ieee.org/automaton/robotics/industrial-robots/agility-robotics-introduces-cassie-a-dynamic-and-talented-robot-delivery-ostrich) is a [dynamic bipedal robot](http://web.eecs.umich.edu/faculty/grizzle/papers/Feedback_Control_of_a_Cassie_Bipedal_Robot__Standing_and_Walking_Final.pdf) developed by [Agility Robotics](https://www.agilityrobotics.com/) used for research and in the future for disaster relief and delivery of packages."
   ]
  },
  {
   "cell_type": "markdown",
   "metadata": {},
   "source": [
    ">[Bipedal Walker](https://gym.openai.com/envs/BipedalWalkerHardcore-v2/). Reward is given for moving forward, total 300+ points up to the far end. If the robot falls, it gets -100. Applying motor torque costs a small amount of points, more optimal agent will get better score. State consists of hull angle speed, angular velocity, horizontal speed, vertical speed, position of joints and joints angular speed, legs contact with ground, and 10 lidar rangefinder measurements. There's no coordinates in the state vector. Hardcore version has ladders, stumps, pitfalls.  Applying motor torque costs a small amount of points, more optimal agent will get better score."
   ]
  },
  {
   "cell_type": "code",
   "execution_count": 10,
   "metadata": {},
   "outputs": [],
   "source": [
    "env = gym.make('BipedalWalker-v2')"
   ]
  },
  {
   "cell_type": "code",
   "execution_count": 11,
   "metadata": {},
   "outputs": [
    {
     "name": "stdout",
     "output_type": "stream",
     "text": [
      "State shape:  (24,)\n",
      "Number of actions:  (4,)\n"
     ]
    }
   ],
   "source": [
    "print('State shape: ', env.observation_space.shape)\n",
    "print('Number of actions: ', env.action_space.shape)"
   ]
  },
  {
   "cell_type": "code",
   "execution_count": 19,
   "metadata": {},
   "outputs": [],
   "source": [
    "from ddpg_agent import DDPG_Agent\n",
    "agent = DDPG_Agent(state_size=env.observation_space.shape[0], action_size=env.action_space.shape[0], random_seed=10)"
   ]
  },
  {
   "cell_type": "code",
   "execution_count": 17,
   "metadata": {},
   "outputs": [
    {
     "name": "stdout",
     "output_type": "stream",
     "text": [
      "5\n",
      "4\n",
      "3\n",
      "2\n",
      "1\n",
      "Episode 5/5."
     ]
    }
   ],
   "source": [
    "time.sleep(20)\n",
    "for i in range(5):\n",
    "    print(str(5-i))\n",
    "    time.sleep(1)\n",
    "# watch an untrained agent\n",
    "num_episodes = 5\n",
    "for i_episode in range(1, num_episodes+1):\n",
    "    state = env.reset()\n",
    "    for step in range(1000):\n",
    "        action = agent.act(state)\n",
    "        env.render()\n",
    "        state, reward, done, _ = env.step(action)\n",
    "        if done:\n",
    "            break \n",
    "    print(\"\\rEpisode {}/{}.\".format(i_episode, num_episodes), end=\"\")\n",
    "    sys.stdout.flush()    \n",
    "env.close()"
   ]
  },
  {
   "cell_type": "code",
   "execution_count": 15,
   "metadata": {},
   "outputs": [
    {
     "name": "stdout",
     "output_type": "stream",
     "text": [
      "Episode 100\tAverage Score: -135.84\tScore: -136.17\n",
      "Episode 200\tAverage Score: -138.52\tScore: -123.95\n",
      "Episode 300\tAverage Score: -133.76\tScore: -120.75\n",
      "Episode 400\tAverage Score: -146.03\tScore: -101.29\n",
      "Episode 500\tAverage Score: -101.83\tScore: -98.572\n",
      "Episode 600\tAverage Score: -106.11\tScore: -96.149\n",
      "Episode 700\tAverage Score: -101.25\tScore: -102.03\n",
      "Episode 800\tAverage Score: -100.80\tScore: -104.58\n",
      "Episode 900\tAverage Score: -99.13\tScore: -98.0265\n",
      "Episode 1000\tAverage Score: -120.10\tScore: -134.65\n",
      "\n",
      "Elapsed time:  8940.479366064072\n"
     ]
    },
    {
     "data": {
      "image/png": "[encoded data removed]",
      "text/plain": [
       "<Figure size 432x288 with 1 Axes>"
      ]
     },
     "metadata": {
      "needs_background": "light"
     },
     "output_type": "display_data"
    }
   ],
   "source": [
    "def ddpg(n_episodes=1000, max_t=1000):\n",
    "    scores_deque = deque(maxlen=100)\n",
    "    scores = []\n",
    "    max_score = -np.Inf\n",
    "    for i_episode in range(1, n_episodes+1):\n",
    "        state = env.reset()\n",
    "        agent.reset()\n",
    "        score = 0\n",
    "        for t in range(max_t):\n",
    "            action = agent.act(state)\n",
    "            next_state, reward, done, _ = env.step(action)\n",
    "            agent.step(state, action, reward, next_state, done)\n",
    "            state = next_state\n",
    "            score += reward\n",
    "            if done:\n",
    "                break \n",
    "        scores_deque.append(score)\n",
    "        scores.append(score)\n",
    "        print('\\rEpisode {}\\tAverage Score: {:.2f}\\tScore: {:.2f}'.format(i_episode, np.mean(scores_deque), score), end=\"\")\n",
    "        if i_episode % 100 == 0:\n",
    "            torch.save(agent.actor_local.state_dict(), 'checkpoint_actor.pth')\n",
    "            torch.save(agent.critic_local.state_dict(), 'checkpoint_critic.pth')\n",
    "            print('\\rEpisode {}\\tAverage Score: {:.2f}'.format(i_episode, np.mean(scores_deque)))   \n",
    "    return scores\n",
    "t0 = time.time()\n",
    "scores = ddpg()\n",
    "print(\"\\nElapsed time: \", time.time() - t0)\n",
    "fig = plt.figure()\n",
    "ax = fig.add_subplot(111)\n",
    "plt.plot(np.arange(1, len(scores)+1), scores)\n",
    "plt.ylabel('Score')\n",
    "plt.xlabel('Episode #')\n",
    "plt.show()"
   ]
  },
  {
   "cell_type": "code",
   "execution_count": 20,
   "metadata": {},
   "outputs": [
    {
     "ename": "RuntimeError",
     "evalue": "Error(s) in loading state_dict for Actor:\n\tUnexpected key(s) in state_dict: \"fc3.weight\", \"fc3.bias\". \n\tsize mismatch for fc1.weight: copying a param with shape torch.Size([400, 24]) from checkpoint, the shape in current model is torch.Size([256, 24]).\n\tsize mismatch for fc1.bias: copying a param with shape torch.Size([400]) from checkpoint, the shape in current model is torch.Size([256]).\n\tsize mismatch for fc2.weight: copying a param with shape torch.Size([300, 400]) from checkpoint, the shape in current model is torch.Size([4, 256]).\n\tsize mismatch for fc2.bias: copying a param with shape torch.Size([300]) from checkpoint, the shape in current model is torch.Size([4]).",
     "output_type": "error",
     "traceback": [
      "\u001b[0;31m---------------------------------------------------------------------------\u001b[0m",
      "\u001b[0;31mRuntimeError\u001b[0m                              Traceback (most recent call last)",
      "\u001b[0;32m<ipython-input-20-9fa3667101ee>\u001b[0m in \u001b[0;36m<module>\u001b[0;34m\u001b[0m\n\u001b[0;32m----> 1\u001b[0;31m \u001b[0magent\u001b[0m\u001b[0;34m.\u001b[0m\u001b[0mactor_local\u001b[0m\u001b[0;34m.\u001b[0m\u001b[0mload_state_dict\u001b[0m\u001b[0;34m(\u001b[0m\u001b[0mtorch\u001b[0m\u001b[0;34m.\u001b[0m\u001b[0mload\u001b[0m\u001b[0;34m(\u001b[0m\u001b[0;34m'chpt_actor_trained.pth'\u001b[0m\u001b[0;34m)\u001b[0m\u001b[0;34m)\u001b[0m\u001b[0;34m\u001b[0m\u001b[0;34m\u001b[0m\u001b[0m\n\u001b[0m\u001b[1;32m      2\u001b[0m \u001b[0;34m\u001b[0m\u001b[0m\n\u001b[1;32m      3\u001b[0m \u001b[0mnum_episodes\u001b[0m \u001b[0;34m=\u001b[0m \u001b[0;36m3\u001b[0m\u001b[0;34m\u001b[0m\u001b[0;34m\u001b[0m\u001b[0m\n\u001b[1;32m      4\u001b[0m \u001b[0;32mfor\u001b[0m \u001b[0mi_episode\u001b[0m \u001b[0;32min\u001b[0m \u001b[0mrange\u001b[0m\u001b[0;34m(\u001b[0m\u001b[0;36m1\u001b[0m\u001b[0;34m,\u001b[0m \u001b[0mnum_episodes\u001b[0m\u001b[0;34m+\u001b[0m\u001b[0;36m1\u001b[0m\u001b[0;34m)\u001b[0m\u001b[0;34m:\u001b[0m\u001b[0;34m\u001b[0m\u001b[0;34m\u001b[0m\u001b[0m\n\u001b[1;32m      5\u001b[0m     \u001b[0mstate\u001b[0m \u001b[0;34m=\u001b[0m \u001b[0menv\u001b[0m\u001b[0;34m.\u001b[0m\u001b[0mreset\u001b[0m\u001b[0;34m(\u001b[0m\u001b[0;34m)\u001b[0m\u001b[0;34m\u001b[0m\u001b[0;34m\u001b[0m\u001b[0m\n",
      "\u001b[0;32m/anaconda3/envs/atari2/lib/python3.6/site-packages/torch/nn/modules/module.py\u001b[0m in \u001b[0;36mload_state_dict\u001b[0;34m(self, state_dict, strict)\u001b[0m\n\u001b[1;32m    775\u001b[0m         \u001b[0;32mif\u001b[0m \u001b[0mlen\u001b[0m\u001b[0;34m(\u001b[0m\u001b[0merror_msgs\u001b[0m\u001b[0;34m)\u001b[0m \u001b[0;34m>\u001b[0m \u001b[0;36m0\u001b[0m\u001b[0;34m:\u001b[0m\u001b[0;34m\u001b[0m\u001b[0;34m\u001b[0m\u001b[0m\n\u001b[1;32m    776\u001b[0m             raise RuntimeError('Error(s) in loading state_dict for {}:\\n\\t{}'.format(\n\u001b[0;32m--> 777\u001b[0;31m                                self.__class__.__name__, \"\\n\\t\".join(error_msgs)))\n\u001b[0m\u001b[1;32m    778\u001b[0m         \u001b[0;32mreturn\u001b[0m \u001b[0m_IncompatibleKeys\u001b[0m\u001b[0;34m(\u001b[0m\u001b[0mmissing_keys\u001b[0m\u001b[0;34m,\u001b[0m \u001b[0munexpected_keys\u001b[0m\u001b[0;34m)\u001b[0m\u001b[0;34m\u001b[0m\u001b[0;34m\u001b[0m\u001b[0m\n\u001b[1;32m    779\u001b[0m \u001b[0;34m\u001b[0m\u001b[0m\n",
      "\u001b[0;31mRuntimeError\u001b[0m: Error(s) in loading state_dict for Actor:\n\tUnexpected key(s) in state_dict: \"fc3.weight\", \"fc3.bias\". \n\tsize mismatch for fc1.weight: copying a param with shape torch.Size([400, 24]) from checkpoint, the shape in current model is torch.Size([256, 24]).\n\tsize mismatch for fc1.bias: copying a param with shape torch.Size([400]) from checkpoint, the shape in current model is torch.Size([256]).\n\tsize mismatch for fc2.weight: copying a param with shape torch.Size([300, 400]) from checkpoint, the shape in current model is torch.Size([4, 256]).\n\tsize mismatch for fc2.bias: copying a param with shape torch.Size([300]) from checkpoint, the shape in current model is torch.Size([4])."
     ]
    }
   ],
   "source": [
    "agent.actor_local.load_state_dict(torch.load('chpt_actor_trained.pth'))\n",
    "\n",
    "num_episodes = 3\n",
    "for i_episode in range(1, num_episodes+1):\n",
    "    state = env.reset()\n",
    "    agent.reset()   \n",
    "    while True:\n",
    "        action = agent.act(state)\n",
    "        env.render()\n",
    "        next_state, reward, done, _ = env.step(action)\n",
    "        state = next_state\n",
    "        if done:\n",
    "            break\n",
    "    print(\"\\rEpisode {}/{}.\".format(i_episode, num_episodes), end=\"\")\n",
    "    sys.stdout.flush()  \n",
    "env.close()"
   ]
  },
  {
   "cell_type": "markdown",
   "metadata": {},
   "source": [
    "[Boston Dynamics](https://www.bostondynamics.com/) is another American engineering and robotics design company. They definitely have the [coolest robot](https://www.youtube.com/watch?v=kVzVekQMUI0) :)"
   ]
  },
  {
   "cell_type": "markdown",
   "metadata": {},
   "source": [
    "<br>\n",
    "<figure>\n",
    "  <img src = \"./images/SexyBot.jpg\" width = 100% >\n",
    "      <figcaption style = \"text-align: center; font-style: italic\">Image: SPOT by Boston Dynamics </figcaption>\n",
    "</figure> \n",
    "<br>"
   ]
  },
  {
   "cell_type": "code",
   "execution_count": null,
   "metadata": {},
   "outputs": [],
   "source": []
  }
 ],
 "metadata": {
  "kernelspec": {
   "display_name": "atari2",
   "language": "python",
   "name": "atari2"
  },
  "language_info": {
   "codemirror_mode": {
    "name": "ipython",
    "version": 3
   },
   "file_extension": ".py",
   "mimetype": "text/x-python",
   "name": "python",
   "nbconvert_exporter": "python",
   "pygments_lexer": "ipython3",
   "version": "3.6.8"
  }
 },
 "nbformat": 4,
 "nbformat_minor": 2
}
